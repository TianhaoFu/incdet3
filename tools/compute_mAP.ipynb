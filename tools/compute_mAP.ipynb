{
 "cells": [
  {
   "cell_type": "code",
   "execution_count": 1,
   "metadata": {},
   "outputs": [],
   "source": [
    "# load lib\n",
    "import os\n",
    "import tabulate\n",
    "import numpy as np\n",
    "from tqdm import tqdm\n",
    "from det3.ops import read_pkl\n"
   ]
  },
  {
   "cell_type": "code",
   "execution_count": 2,
   "metadata": {},
   "outputs": [],
   "source": [
    "# global variables\n",
    "g_task=\"task3\"\n",
    "g_domain=\"domain3\"\n",
    "g_reuse_tag=\"reuse\"\n",
    "if g_task in [\"task2\", \"task3\"]:\n",
    "    g_statistic_dict = {\n",
    "        \"joint_training\": [f\"July24-expcarlap1+-eval-jointtraining-{g_task}-{g_domain}-{g_reuse_tag}-{cv}\" for cv in range(5)],\n",
    "        \"lwf\": [f\"July24-expcarlap1+-eval-lwf-{g_task}-{g_domain}-{g_reuse_tag}-{cv}\" for cv in range(5)],\n",
    "        \"fine_tuning\": [f\"July24-expcarlap1+-eval-finetuning-{g_task}-{g_domain}-{g_reuse_tag}-{cv}\" for cv in range(5)]\n",
    "    }\n",
    "elif g_task == \"task1\":\n",
    "    g_statistic_dict = {\n",
    "        \"joint_training\": [f\"July24-expcarlap1+-eval-{g_task}-{g_domain}\"],\n",
    "        \"lwf\": [f\"July24-expcarlap1+-eval-{g_task}-{g_domain}\"],\n",
    "        \"fine_tuning\": [f\"July24-expcarlap1+-eval-{g_task}-{g_domain}\"]\n",
    "    }\n",
    "else:\n",
    "    raise NotImplementedError\n",
    "if g_task == \"task3\" and g_reuse_tag==\"reuse\":\n",
    "    g_statistic_dict = {\n",
    "        \"joint_training\": [f\"July24-expcarlap1+-eval-jointtraining-{g_task}-{g_domain}-{g_reuse_tag}-{cv}\" for cv in range(5)],\n",
    "        \"lwf\": [f\"July24-expcarlap1+-eval-lwf-{g_task}-{g_domain}-{g_reuse_tag}-{cv}\" for cv in range(5)],\n",
    "        \"fine_tuning\": [f\"July24-expcarlap1+-eval-finetuning-{g_task}-{g_domain}-{g_reuse_tag}-{cv}\" for cv in range(2)]\n",
    "    }\n",
    "g_valid_classes = None\n",
    "g_mAP_weights = None\n",
    "g_mAPs = {}\n",
    "g_cls2metric= {\n",
    "    \"Car\": \"3d@0.50\",\n",
    "    \"Pedestrian\": \"3d@0.25\",\n",
    "    \"Cyclist\": \"3d@0.25\"\n",
    "}"
   ]
  },
  {
   "cell_type": "code",
   "execution_count": 3,
   "metadata": {},
   "outputs": [],
   "source": [
    "# define functions\n",
    "def get_valid_classes(task:str, domain:str):\n",
    "    if domain == \"domain3\":\n",
    "        l_domain = [\"Car\", \"Pedestrian\", \"Cyclist\"]\n",
    "    elif domain == \"domain2\":\n",
    "        l_domain = [\"Car\", \"Pedestrian\"]\n",
    "    elif domain == \"domain1\":\n",
    "        l_domain = [\"Car\"]\n",
    "    else:\n",
    "        raise NotImplementedError\n",
    "    if task == \"task3\":\n",
    "        l_task = [\"Car\", \"Pedestrian\", \"Cyclist\"]\n",
    "    elif task == \"task2\":\n",
    "        l_task = [\"Car\", \"Pedestrian\"]\n",
    "    elif task == \"task1\":\n",
    "        l_task = [\"Car\"]\n",
    "    else:\n",
    "        raise NotImplementedError\n",
    "    return [itm for itm in l_domain if itm in l_task]\n",
    "    \n",
    "\n",
    "def tag2pkl(tag, task:str, domain:str, cls2metric:dict):\n",
    "    '''\n",
    "    return result pkl according to tag\n",
    "    '''\n",
    "    path = f\"/usr/app/incdet3/logs/July24-expcarlap1+-eval/{tag}/test_results.pkl\"\n",
    "    if not os.path.exists(path):\n",
    "        return None\n",
    "    data = read_pkl(path)\n",
    "    data = data['detail']['eval.carla']['carla']\n",
    "    res = {}\n",
    "    for cls, v in data.items():\n",
    "        res[cls] = v[cls2metric[cls]]\n",
    "    return res\n",
    "\n",
    "def domain2infopkl(domain:str):\n",
    "    '''\n",
    "    return the test info pkl according to domain.\n",
    "    '''\n",
    "    if domain == \"domain3\":\n",
    "        path = \"/usr/app/data/CARLA-P1-TASK3/CARLA_infos_test.pkl\"\n",
    "    elif domain == \"domain2\":\n",
    "        path = \"/usr/app/data/CARLA-P1-TASK2/CARLA_infos_test.pkl\"\n",
    "    elif domain == \"domain1\":\n",
    "        path = \"/usr/app/data/CARLA-P1-TASK1/CARLA_infos_test.pkl\"\n",
    "    else:\n",
    "        raise NotImplementedError\n",
    "    return read_pkl(path)\n",
    "    \n",
    "def compute_mAP(eval_data:dict, mAP_weights:dict):\n",
    "    '''\n",
    "    return the mAP:\n",
    "    {\n",
    "    \"Car\": float,\n",
    "    \"Pedestrian\": float,\n",
    "    \"Cyclist\": float\n",
    "    }\n",
    "    '''\n",
    "    res = {}\n",
    "    for cls, aps in eval_data.items():\n",
    "        if cls not in [k for k in mAP_weights.keys()]:\n",
    "            continue\n",
    "        res[cls] = sum([ap * weight / sum(mAP_weights[cls])\n",
    "                    for ap, weight in zip(aps, mAP_weights[cls])])\n",
    "    return res"
   ]
  },
  {
   "cell_type": "code",
   "execution_count": 4,
   "metadata": {},
   "outputs": [
    {
     "name": "stderr",
     "output_type": "stream",
     "text": [
      "100%|██████████| 1100/1100 [00:00<00:00, 5753.79it/s]"
     ]
    },
    {
     "name": "stdout",
     "output_type": "stream",
     "text": [
      "{'Car': [1924, 2962, 5534], 'Pedestrian': [3340, 5590, 11515], 'Cyclist': [343, 657, 1542]}\n"
     ]
    },
    {
     "name": "stderr",
     "output_type": "stream",
     "text": [
      "\n"
     ]
    }
   ],
   "source": [
    "# compute easy, mod, hard weight for each class of the domain\n",
    "# mAP_weights = {\n",
    "#     \"Car\": [num_of_easy, num_of_mod, num_of_hard],\n",
    "#     ...\n",
    "# }\n",
    "g_valid_classes = get_valid_classes(g_task, g_domain)\n",
    "info_pkl = domain2infopkl(g_domain)\n",
    "mAP_weights = {k: [0, 0, 0] for k in g_valid_classes}\n",
    "for itm in tqdm(info_pkl):\n",
    "    label = itm[\"label\"]\n",
    "    for obj in label.data:\n",
    "        if obj.type not in g_valid_classes:\n",
    "            continue\n",
    "        dist = np.sqrt(obj.x **2 + obj.y **2)\n",
    "        if dist <= 20:\n",
    "            mAP_weights[obj.type][0] += 1\n",
    "        if dist <= 30:\n",
    "            mAP_weights[obj.type][1] += 1\n",
    "        if dist <= 50:\n",
    "            mAP_weights[obj.type][2] += 1\n",
    "print(mAP_weights)\n",
    "g_mAP_weights = mAP_weights"
   ]
  },
  {
   "cell_type": "code",
   "execution_count": 5,
   "metadata": {},
   "outputs": [
    {
     "name": "stdout",
     "output_type": "stream",
     "text": [
      "July24-expcarlap1+-eval-jointtraining-task3-domain3-reuse-0\n",
      "  Car: 63.1\n",
      "  Pedestrian: 67.6\n",
      "  Cyclist: 51.5\n",
      "July24-expcarlap1+-eval-jointtraining-task3-domain3-reuse-1\n",
      "  Car: 63.2\n",
      "  Pedestrian: 67.6\n",
      "  Cyclist: 60.5\n",
      "July24-expcarlap1+-eval-jointtraining-task3-domain3-reuse-2\n",
      "  Car: 56.7\n",
      "  Pedestrian: 67.6\n",
      "  Cyclist: 59.9\n",
      "July24-expcarlap1+-eval-jointtraining-task3-domain3-reuse-3\n",
      "  Car: 65.2\n",
      "  Pedestrian: 67.6\n",
      "  Cyclist: 58.3\n",
      "July24-expcarlap1+-eval-jointtraining-task3-domain3-reuse-4\n",
      "  Car: 63.3\n",
      "  Pedestrian: 67.6\n",
      "  Cyclist: 58.2\n",
      "July24-expcarlap1+-eval-lwf-task3-domain3-reuse-0\n",
      "  Car: 65.2\n",
      "  Pedestrian: 58.7\n",
      "  Cyclist: 49.9\n",
      "July24-expcarlap1+-eval-lwf-task3-domain3-reuse-1\n",
      "  Car: 63.5\n",
      "  Pedestrian: 57.1\n",
      "  Cyclist: 50.0\n",
      "July24-expcarlap1+-eval-lwf-task3-domain3-reuse-2\n",
      "  Car: 55.4\n",
      "  Pedestrian: 58.6\n",
      "  Cyclist: 51.3\n",
      "July24-expcarlap1+-eval-lwf-task3-domain3-reuse-3\n",
      "  Car: 63.8\n",
      "  Pedestrian: 58.7\n",
      "  Cyclist: 50.1\n",
      "July24-expcarlap1+-eval-lwf-task3-domain3-reuse-4\n",
      "  Car: 64.8\n",
      "  Pedestrian: 58.7\n",
      "  Cyclist: 50.6\n",
      "July24-expcarlap1+-eval-finetuning-task3-domain3-reuse-0\n",
      "  Car: 0.0\n",
      "  Pedestrian: 0.0\n",
      "  Cyclist: 41.4\n",
      "July24-expcarlap1+-eval-finetuning-task3-domain3-reuse-1\n",
      "  Car: 0.0\n",
      "  Pedestrian: 0.0\n",
      "  Cyclist: 52.0\n"
     ]
    }
   ],
   "source": [
    "# load each evaluation results and compute its map\n",
    "for _, v in g_statistic_dict.items():\n",
    "    for tag in v:\n",
    "        eval_data = tag2pkl(tag, g_task, g_domain, g_cls2metric)\n",
    "        if eval_data is None:\n",
    "            g_mAPs[tag] = -1\n",
    "            continue\n",
    "        mAP = compute_mAP(eval_data, g_mAP_weights)\n",
    "        g_mAPs[tag] = mAP\n",
    "for k, v in g_mAPs.items():\n",
    "    print(k)\n",
    "    if v == -1 :\n",
    "        print(\"evaluate result is not available.\")\n",
    "        continue\n",
    "    for kk, vv in v.items():\n",
    "        print(f\"  {kk}: {vv:.1f}\")"
   ]
  },
  {
   "cell_type": "code",
   "execution_count": 7,
   "metadata": {},
   "outputs": [
    {
     "name": "stdout",
     "output_type": "stream",
     "text": [
      "| Case           | Car         | Pedestrian   | Cyclist     |\n",
      "|:---------------|:------------|:-------------|:------------|\n",
      "| joint_training | 62.32+-2.89 | 67.60+-0.03  | 57.68+-3.20 |\n",
      "| lwf            | 62.53+-3.63 | 58.34+-0.62  | 50.38+-0.54 |\n",
      "| fine_tuning    | 0.00+-0.00  | 0.00+-0.00   | 46.66+-5.30 |\n"
     ]
    }
   ],
   "source": [
    "# generate a table according to the g_statistic_dict\n",
    "header = [\"Case\"] + g_valid_classes\n",
    "content = []\n",
    "for statistic_tag, tags in g_statistic_dict.items():\n",
    "    ctt = [statistic_tag]\n",
    "    for cls in g_valid_classes:\n",
    "        data = [g_mAPs[tag][cls] for tag in tags if g_mAPs[tag] != -1]\n",
    "        ctt += [f\"{np.mean(data):.2f}+-{np.std(data):.2f}\"]\n",
    "    content.append(ctt)\n",
    "print(tabulate.tabulate(content, headers=header, tablefmt=\"pipe\"))\n",
    "for k, v in g_mAPs.items():\n",
    "    if v == -1:\n",
    "        print(f\"{k} is not counted.\")"
   ]
  },
  {
   "cell_type": "code",
   "execution_count": null,
   "metadata": {},
   "outputs": [],
   "source": []
  }
 ],
 "metadata": {
  "kernelspec": {
   "display_name": "Python 3",
   "language": "python",
   "name": "python3"
  },
  "language_info": {
   "codemirror_mode": {
    "name": "ipython",
    "version": 3
   },
   "file_extension": ".py",
   "mimetype": "text/x-python",
   "name": "python",
   "nbconvert_exporter": "python",
   "pygments_lexer": "ipython3",
   "version": "3.7.4"
  }
 },
 "nbformat": 4,
 "nbformat_minor": 4
}
