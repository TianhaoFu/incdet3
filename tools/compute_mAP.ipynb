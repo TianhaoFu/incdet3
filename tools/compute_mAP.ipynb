{
 "cells": [
  {
   "cell_type": "code",
   "execution_count": 1,
   "metadata": {},
   "outputs": [],
   "source": [
    "# load lib\n",
    "import tabulate\n",
    "import numpy as np\n",
    "from tqdm import tqdm\n",
    "from det3.ops import read_pkl\n"
   ]
  },
  {
   "cell_type": "code",
   "execution_count": 2,
   "metadata": {},
   "outputs": [],
   "source": [
    "# global variables\n",
    "g_task=\"task1\"\n",
    "g_domain=\"domain1\"\n",
    "if g_task == \"task3\":\n",
    "    g_statistic_dict = {\n",
    "        \"joint_training\": [f\"July14-expcarlarmore-jointtraining_cv{cv}_{g_task}_{g_domain}\" for cv in range(5)],\n",
    "        \"lwf\": [f\"July14-expcarlarmore-lwf_cv{cv}_{g_task}_{g_domain}\" for cv in range(5)],\n",
    "        \"fine_tuning\": [f\"July14-expcarlarmore-finetuning_cv{cv}_{g_task}_{g_domain}\" for cv in range(3)]\n",
    "    }\n",
    "else:\n",
    "    g_statistic_dict = {\n",
    "        \"joint_training\": [f\"July14-expcarlarmore-jointtraining_cv{cv}_{g_task}_{g_domain}\" for cv in range(5)],\n",
    "        \"lwf\": [f\"July14-expcarlarmore-lwf_cv{cv}_{g_task}_{g_domain}\" for cv in range(5)],\n",
    "        \"fine_tuning\": [f\"July14-expcarlarmore-finetuning_cv{cv}_{g_task}_{g_domain}\" for cv in range(5)]\n",
    "    }\n",
    "g_valid_classes = None\n",
    "g_mAP_weights = None\n",
    "g_mAPs = {}\n",
    "g_cls2metric= {\n",
    "    \"Car\": \"3d@0.50\",\n",
    "    \"Pedestrian\": \"3d@0.25\",\n",
    "    \"Cyclist\": \"3d@0.25\"\n",
    "}"
   ]
  },
  {
   "cell_type": "code",
   "execution_count": 3,
   "metadata": {},
   "outputs": [],
   "source": [
    "# define functions\n",
    "def get_valid_classes(task:str, domain:str):\n",
    "    if domain == \"domain3\":\n",
    "        l_domain = [\"Car\", \"Pedestrian\", \"Cyclist\"]\n",
    "    elif domain == \"domain2\":\n",
    "        l_domain = [\"Car\", \"Pedestrian\"]\n",
    "    elif domain == \"domain1\":\n",
    "        l_domain = [\"Car\"]\n",
    "    else:\n",
    "        raise NotImplementedError\n",
    "    if task == \"task3\":\n",
    "        l_task = [\"Car\", \"Pedestrian\", \"Cyclist\"]\n",
    "    elif task == \"task2\":\n",
    "        l_task = [\"Car\", \"Pedestrian\"]\n",
    "    elif task == \"task1\":\n",
    "        l_task = [\"Car\"]\n",
    "    else:\n",
    "        raise NotImplementedError\n",
    "    return [itm for itm in l_domain if itm in l_task]\n",
    "    \n",
    "\n",
    "def tag2pkl(tag, task:str, domain:str, cls2metric:dict):\n",
    "    '''\n",
    "    return result pkl according to tag\n",
    "    '''\n",
    "    if task == \"task3\":\n",
    "        path = f\"/usr/app/incdet3/logs/July14-expcarlamore-eval/{tag}/test_results.pkl\"\n",
    "    elif domain == \"domain3\" and task != \"task1\":\n",
    "        path = f\"/usr/app/incdet3/logs/July14-expcarlamore-eval/{tag}/test_results.pkl\"\n",
    "    elif task == \"task2\" and domain==\"domain2\":\n",
    "        tag_ = tag.split(\"-\")[2].split(\"_\")[:2]\n",
    "        tag_ = \"_\".join(tag_) if not \"lwf\" in tag else f\"lwf_distloss_{tag_[1]}\"\n",
    "        tag_ = f\"{tag_}-afteril-targetdataset-last\"\n",
    "        path = f\"/usr/app/incdet3/logs/July07-expcarla-il/eval_log/{tag_}/test_results.pkl\"\n",
    "    elif task == \"task2\" and domain==\"domain1\":\n",
    "        tag_ = tag.split(\"-\")[2].split(\"_\")[:2]\n",
    "        tag_ = \"_\".join(tag_) if not \"lwf\" in tag else f\"lwf_distloss_{tag_[1]}\"\n",
    "        tag_ = f\"{tag_}-afteril-sourcedataset-last\"\n",
    "        path = f\"/usr/app/incdet3/logs/July07-expcarla-il/eval_log/{tag_}/test_results.pkl\"\n",
    "    elif domain == \"domain3\" and task == \"task1\":\n",
    "        path = \"/usr/app/incdet3/logs/July14-expcarlamore-eval/July14-expcarlarmore-task1_domain3/test_results.pkl\"\n",
    "    elif task == \"task1\" and domain == \"domain2\":\n",
    "        path = \"/usr/app/incdet3/logs/July07-expcarla-il/eval_log/beforeil-targetdataset/test_results.pkl\"\n",
    "    elif task == \"task1\" and domain == \"domain1\":\n",
    "        path = \"/usr/app/incdet3/logs/July07-expcarla-il/eval_log/beforeil-sourcedataset/test_results.pkl\"\n",
    "    data = read_pkl(path)\n",
    "    data = data['detail']['eval.carla']['carla']\n",
    "    res = {}\n",
    "    for cls, v in data.items():\n",
    "        res[cls] = v[cls2metric[cls]]\n",
    "    return res\n",
    "\n",
    "def domain2infopkl(domain:str):\n",
    "    '''\n",
    "    return the test info pkl according to domain.\n",
    "    '''\n",
    "    if domain == \"domain3\":\n",
    "        path = \"/usr/app/data/CARLA-TOWN01CARPEDCYC/CARLA_infos_test.pkl\"\n",
    "    elif domain == \"domain2\":\n",
    "        path = \"/usr/app/data/CARLA-TOWN02CARPED/CARLA_infos_test.pkl\"\n",
    "    elif domain == \"domain1\":\n",
    "        path = \"/usr/app/data/CARLA-TOWN01CAR/CARLA_infos_test.pkl\"\n",
    "    else:\n",
    "        raise NotImplementedError\n",
    "    return read_pkl(path)\n",
    "    \n",
    "def compute_mAP(eval_data:dict, mAP_weights:dict):\n",
    "    '''\n",
    "    return the mAP:\n",
    "    {\n",
    "    \"Car\": float,\n",
    "    \"Pedestrian\": float,\n",
    "    \"Cyclist\": float\n",
    "    }\n",
    "    '''\n",
    "    res = {}\n",
    "    for cls, aps in eval_data.items():\n",
    "        if cls not in [k for k in mAP_weights.keys()]:\n",
    "            continue\n",
    "        res[cls] = sum([ap * weight / sum(mAP_weights[cls])\n",
    "                    for ap, weight in zip(aps, mAP_weights[cls])])\n",
    "    return res"
   ]
  },
  {
   "cell_type": "code",
   "execution_count": 4,
   "metadata": {},
   "outputs": [
    {
     "name": "stderr",
     "output_type": "stream",
     "text": [
      "100%|██████████| 1100/1100 [00:00<00:00, 7104.90it/s]"
     ]
    },
    {
     "name": "stdout",
     "output_type": "stream",
     "text": [
      "{'Car': [1357, 2657, 5797]}\n"
     ]
    },
    {
     "name": "stderr",
     "output_type": "stream",
     "text": [
      "\n"
     ]
    }
   ],
   "source": [
    "# compute easy, mod, hard weight for each class of the domain\n",
    "# mAP_weights = {\n",
    "#     \"Car\": [num_of_easy, num_of_mod, num_of_hard],\n",
    "#     ...\n",
    "# }\n",
    "g_valid_classes = get_valid_classes(g_task, g_domain)\n",
    "info_pkl = domain2infopkl(g_domain)\n",
    "mAP_weights = {k: [0, 0, 0] for k in g_valid_classes}\n",
    "for itm in tqdm(info_pkl):\n",
    "    label = itm[\"label\"]\n",
    "    for obj in label.data:\n",
    "        if obj.type not in g_valid_classes:\n",
    "            continue\n",
    "        dist = np.sqrt(obj.x **2 + obj.y **2)\n",
    "        if dist <= 20:\n",
    "            mAP_weights[obj.type][0] += 1\n",
    "        if dist <= 30:\n",
    "            mAP_weights[obj.type][1] += 1\n",
    "        if dist <= 50:\n",
    "            mAP_weights[obj.type][2] += 1\n",
    "print(mAP_weights)\n",
    "g_mAP_weights = mAP_weights"
   ]
  },
  {
   "cell_type": "code",
   "execution_count": 5,
   "metadata": {},
   "outputs": [],
   "source": [
    "# load each evaluation results and compute its map\n",
    "for _, v in g_statistic_dict.items():\n",
    "    for tag in v:\n",
    "        eval_data = tag2pkl(tag, g_task, g_domain, g_cls2metric)\n",
    "        mAP = compute_mAP(eval_data, g_mAP_weights)\n",
    "        g_mAPs[tag] = mAP\n",
    "# for k, v in g_mAPs.items():\n",
    "#     print(k)\n",
    "#     for kk, vv in v.items():\n",
    "#         print(f\"  {kk}: {vv:.1f}\")"
   ]
  },
  {
   "cell_type": "code",
   "execution_count": 6,
   "metadata": {},
   "outputs": [
    {
     "name": "stdout",
     "output_type": "stream",
     "text": [
      "| Case           | Car       |\n",
      "|:---------------|:----------|\n",
      "| joint_training | 63.4+-0.0 |\n",
      "| lwf            | 63.4+-0.0 |\n",
      "| fine_tuning    | 63.4+-0.0 |\n"
     ]
    }
   ],
   "source": [
    "# generate a table according to the g_statistic_dict\n",
    "header = [\"Case\"] + g_valid_classes\n",
    "content = []\n",
    "for statistic_tag, tags in g_statistic_dict.items():\n",
    "    ctt = [statistic_tag]\n",
    "    for cls in g_valid_classes:\n",
    "        data = [g_mAPs[tag][cls] for tag in tags]\n",
    "        ctt += [f\"{np.mean(data):.1f}+-{np.std(data):.1f}\"]\n",
    "    content.append(ctt)\n",
    "print(tabulate.tabulate(content, headers=header, tablefmt=\"pipe\"))"
   ]
  },
  {
   "cell_type": "code",
   "execution_count": null,
   "metadata": {},
   "outputs": [],
   "source": []
  }
 ],
 "metadata": {
  "kernelspec": {
   "display_name": "Python 3",
   "language": "python",
   "name": "python3"
  },
  "language_info": {
   "codemirror_mode": {
    "name": "ipython",
    "version": 3
   },
   "file_extension": ".py",
   "mimetype": "text/x-python",
   "name": "python",
   "nbconvert_exporter": "python",
   "pygments_lexer": "ipython3",
   "version": "3.7.4"
  }
 },
 "nbformat": 4,
 "nbformat_minor": 4
}
